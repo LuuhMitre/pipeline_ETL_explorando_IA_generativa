{
  "nbformat": 4,
  "nbformat_minor": 0,
  "metadata": {
    "colab": {
      "provenance": [],
      "toc_visible": true,
      "authorship_tag": "ABX9TyPWBNYfJgCrmrf2yQ2Ds340",
      "include_colab_link": true
    },
    "kernelspec": {
      "name": "python3",
      "display_name": "Python 3"
    },
    "language_info": {
      "name": "python"
    }
  },
  "cells": [
    {
      "cell_type": "markdown",
      "metadata": {
        "id": "view-in-github",
        "colab_type": "text"
      },
      "source": [
        "<a href=\"https://colab.research.google.com/github/LuuhMitre/pipeline_ETL_explorando_IA_generativa/blob/main/pedidos.ipynb\" target=\"_parent\"><img src=\"https://colab.research.google.com/assets/colab-badge.svg\" alt=\"Open In Colab\"/></a>"
      ]
    },
    {
      "cell_type": "markdown",
      "source": [
        "## **E**xtract\n",
        "\n",
        "Extraia o arquivo pedidos.csv."
      ],
      "metadata": {
        "id": "9dfI-o7gLRq9"
      }
    },
    {
      "cell_type": "code",
      "execution_count": 97,
      "metadata": {
        "id": "VdFC98sqzmEB",
        "colab": {
          "base_uri": "https://localhost:8080/"
        },
        "outputId": "cad7c86a-2fd3-45aa-fd1b-c8275722d483"
      },
      "outputs": [
        {
          "output_type": "stream",
          "name": "stdout",
          "text": [
            "   idOrder costumerName                orderStatus  deliveryTime  \\\n",
            "0        1      Ronaldo             Pedido enviado             6   \n",
            "1        2   Alessandra        Pedido em separação             7   \n",
            "2        3     Lorraine  Pedido em rota de entrega             1   \n",
            "3        4        Luana  Pedido em rota de entrega             1   \n",
            "4        5       Marcos        Pedido em separação             7   \n",
            "5        6        Paulo             Pedido enviado             5   \n",
            "6        7        Luisa        Pedido em separação             7   \n",
            "\n",
            "   statusMessage  \n",
            "0            NaN  \n",
            "1            NaN  \n",
            "2            NaN  \n",
            "3            NaN  \n",
            "4            NaN  \n",
            "5            NaN  \n",
            "6            NaN  \n",
            "[1, 2, 3, 4, 5, 6, 7]\n"
          ]
        }
      ],
      "source": [
        "import pandas as pd\n",
        "\n",
        "df = pd.read_csv('pedidos.csv', sep=';', encoding='ISO-8859-1')\n",
        "print(df)\n",
        "\n",
        "user_ids = df['idOrder'].tolist()\n",
        "print(df['idOrder'].tolist())"
      ]
    },
    {
      "cell_type": "code",
      "source": [
        "def get_order(df, user_ids):\n",
        "  response = df.iloc[user_ids - 1].to_dict()\n",
        "  return response if (1 <= user_ids <= len(df)) else None\n",
        "\n",
        "for user_id in user_ids:\n",
        "    order_data = get_order(df, user_id)\n",
        "    if order_data:\n",
        "        print('Dados da linha', user_id, ':', order_data)\n",
        "    else:\n",
        "        print(f'Linha {user_id} não encontrada.')"
      ],
      "metadata": {
        "colab": {
          "base_uri": "https://localhost:8080/"
        },
        "id": "hN3VeP22MizJ",
        "outputId": "14d0df81-b206-40a0-fe91-e8b685981afc"
      },
      "execution_count": 98,
      "outputs": [
        {
          "output_type": "stream",
          "name": "stdout",
          "text": [
            "Dados da linha 1 : {'idOrder': 1, 'costumerName': 'Ronaldo', 'orderStatus': 'Pedido enviado', 'deliveryTime': 6, 'statusMessage': nan}\n",
            "Dados da linha 2 : {'idOrder': 2, 'costumerName': 'Alessandra', 'orderStatus': 'Pedido em separação', 'deliveryTime': 7, 'statusMessage': nan}\n",
            "Dados da linha 3 : {'idOrder': 3, 'costumerName': 'Lorraine', 'orderStatus': 'Pedido em rota de entrega', 'deliveryTime': 1, 'statusMessage': nan}\n",
            "Dados da linha 4 : {'idOrder': 4, 'costumerName': 'Luana', 'orderStatus': 'Pedido em rota de entrega', 'deliveryTime': 1, 'statusMessage': nan}\n",
            "Dados da linha 5 : {'idOrder': 5, 'costumerName': 'Marcos', 'orderStatus': 'Pedido em separação', 'deliveryTime': 7, 'statusMessage': nan}\n",
            "Dados da linha 6 : {'idOrder': 6, 'costumerName': 'Paulo', 'orderStatus': 'Pedido enviado', 'deliveryTime': 5, 'statusMessage': nan}\n",
            "Dados da linha 7 : {'idOrder': 7, 'costumerName': 'Luisa', 'orderStatus': 'Pedido em separação', 'deliveryTime': 7, 'statusMessage': nan}\n"
          ]
        }
      ]
    },
    {
      "cell_type": "markdown",
      "source": [
        "## **T**ransform\n",
        "\n",
        "Transformar dados para gerar uma mensagem personalizada sobre o status do pedido."
      ],
      "metadata": {
        "id": "cWoqInB4TF1x"
      }
    },
    {
      "cell_type": "code",
      "source": [
        "def status_message(row):\n",
        "  order_status = row['orderStatus']\n",
        "  delivery_time = row['deliveryTime']\n",
        "  return f'{order_status}. Seu pedido chegará em até {delivery_time} dias [úteis].'"
      ],
      "metadata": {
        "id": "OyUHIZiNERmx"
      },
      "execution_count": 99,
      "outputs": []
    },
    {
      "cell_type": "markdown",
      "source": [
        "## Load\n",
        "\n",
        "Atualizar a coluna Status do Pedido, de acordo com o prazo de entrega do pedido."
      ],
      "metadata": {
        "id": "iI7c5GY7crQv"
      }
    },
    {
      "cell_type": "code",
      "source": [
        "df['statusMessage'] = df.apply(status_message, axis=1)\n",
        "print(df)"
      ],
      "metadata": {
        "colab": {
          "base_uri": "https://localhost:8080/"
        },
        "id": "7llDjvkocrjP",
        "outputId": "438a7117-921a-46b5-a145-0432bd71d75c"
      },
      "execution_count": 100,
      "outputs": [
        {
          "output_type": "stream",
          "name": "stdout",
          "text": [
            "   idOrder costumerName                orderStatus  deliveryTime  \\\n",
            "0        1      Ronaldo             Pedido enviado             6   \n",
            "1        2   Alessandra        Pedido em separação             7   \n",
            "2        3     Lorraine  Pedido em rota de entrega             1   \n",
            "3        4        Luana  Pedido em rota de entrega             1   \n",
            "4        5       Marcos        Pedido em separação             7   \n",
            "5        6        Paulo             Pedido enviado             5   \n",
            "6        7        Luisa        Pedido em separação             7   \n",
            "\n",
            "                                       statusMessage  \n",
            "0  Pedido enviado. Seu pedido chegará em até 6 di...  \n",
            "1  Pedido em separação. Seu pedido chegará em até...  \n",
            "2  Pedido em rota de entrega. Seu pedido chegará ...  \n",
            "3  Pedido em rota de entrega. Seu pedido chegará ...  \n",
            "4  Pedido em separação. Seu pedido chegará em até...  \n",
            "5  Pedido enviado. Seu pedido chegará em até 5 di...  \n",
            "6  Pedido em separação. Seu pedido chegará em até...  \n"
          ]
        }
      ]
    }
  ]
}